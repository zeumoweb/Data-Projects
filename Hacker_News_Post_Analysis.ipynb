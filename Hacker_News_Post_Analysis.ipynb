{
 "cells": [
  {
   "cell_type": "markdown",
   "metadata": {
    "collapsed": true
   },
   "source": [
    "\n",
    "#  Exploring Hacker News Posts \n",
    "\n",
    "\n",
    "In this project, we analyse a data set from [Hacker News](https://news.ycombinator.com/), a popular website where technology related posts are published. \n",
    "\n",
    "Our analysis will be focused on two major type of posts, The Ask HN and Show HN posts.\n",
    "\n",
    "* Ask HN Post : These are posts that users use to ask technology related questions to the Hacker New Community.                                 **Any post that starts with Ask HN is an Ask HN Post**. Example: Ask HN: Which programming language is advisable for beginners ?\n",
    "\n",
    "\n",
    "* Show HN Post : Users use this post to show case any form of project they worked on.                                                             **These posts start with Show HN**\n",
    "\n",
    "#  Goal of this Analysis\n",
    "\n",
    "## We seek to answer the following questions\n",
    "- Which type of post is more frequent on Hacker News between Ask and Show Post\n",
    "- Which post between Ask HN and Show HN receive more points ?\n",
    "\n",
    "- Do Ask HN post receive more comments reactions than Show HN post ?\n",
    "\n",
    "- At what time of the day does these posts receive the highest number of comments on average ?\n",
    "\n",
    "\n",
    "\n",
    "The dataset for this analysis was obtained from [Kaggle](https://www.kaggle.com/hacker-news/hacker-news-posts)\n",
    "\n"
   ]
  },
  {
   "cell_type": "markdown",
   "metadata": {},
   "source": [
    "# Getting Startted\n",
    "\n",
    "### Points to note:\n",
    "\n",
    "The original data obtained from [Kaggle](https://www.kaggle.com/hacker-news/hacker-news-posts) contained 300,000 rows.\n",
    "\n",
    "This data has been cleaned and reduce to approximately 20,000rows. rows containing posts with no comments has been stripped from the data set, and the remaining rows were gotten through random sampling.\n",
    "\n",
    "### Information about the columns\n",
    "\n",
    "The data set contains seven columns as listed below.\n",
    "\n",
    "1. **id**: The unique identifier from Hacker News for the post\n",
    "2. **title**: The title of the post\n",
    "3. **url**: The URL that the posts links to, if the post has a URL\n",
    "4. **num_points**: The number of points the post acquired, calculated as the total number of upvotes minus the total number of downvotes\n",
    "5. **num_comments**: The number of comments that were made on the post\n",
    "6. **author**: The username of the person who submitted the post\n",
    "7. **created_at**: The date and time at which the post was submitted\n"
   ]
  },
  {
   "cell_type": "markdown",
   "metadata": {},
   "source": [
    "Let us start by reading the data, storing it into a list of lists and removing the header from it."
   ]
  },
  {
   "cell_type": "code",
   "execution_count": 11,
   "metadata": {},
   "outputs": [
    {
     "name": "stdout",
     "output_type": "stream",
     "text": [
      "['id', 'title', 'url', 'num_points', 'num_comments', 'author', 'created_at']\n"
     ]
    }
   ],
   "source": [
    "# Import csv and read the data set\n",
    "import csv\n",
    "\n",
    "open_file = open(\"hacker_news.csv\", encoding=\"utf8\")\n",
    "hn = csv.reader(open_file)\n",
    "hn = list(hn)\n",
    "header = hn[0]\n",
    "\n",
    "#Removing the header\n",
    "hn = hn[1:]\n",
    "\n",
    "print(header)\n"
   ]
  },
  {
   "cell_type": "markdown",
   "metadata": {},
   "source": [
    "Next we will print the first 5 rows of our data to visualize the structure"
   ]
  },
  {
   "cell_type": "code",
   "execution_count": 12,
   "metadata": {},
   "outputs": [
    {
     "name": "stdout",
     "output_type": "stream",
     "text": [
      "['12224879', 'Interactive Dynamic Video', 'http://www.interactivedynamicvideo.com/', '386', '52', 'ne0phyte', '8/4/2016 11:52']\n",
      "['10975351', 'How to Use Open Source and Shut the Fuck Up at the Same Time', 'http://hueniverse.com/2016/01/26/how-to-use-open-source-and-shut-the-fuck-up-at-the-same-time/', '39', '10', 'josep2', '1/26/2016 19:30']\n",
      "['11964716', \"Florida DJs May Face Felony for April Fools' Water Joke\", 'http://www.thewire.com/entertainment/2013/04/florida-djs-april-fools-water-joke/63798/', '2', '1', 'vezycash', '6/23/2016 22:20']\n",
      "['11919867', 'Technology ventures: From Idea to Enterprise', 'https://www.amazon.com/Technology-Ventures-Enterprise-Thomas-Byers/dp/0073523429', '3', '1', 'hswarna', '6/17/2016 0:01']\n",
      "['10301696', 'Note by Note: The Making of Steinway L1037 (2007)', 'http://www.nytimes.com/2007/11/07/movies/07stein.html?_r=0', '8', '2', 'walterbell', '9/30/2015 4:12']\n"
     ]
    }
   ],
   "source": [
    "# First five rows\n",
    "for row in hn[:5]:\n",
    "    print(row)"
   ]
  },
  {
   "cell_type": "markdown",
   "metadata": {},
   "source": [
    "# Seperating rows with post that starts with Ask HN, Show HN and Others\n",
    "\n",
    "We will loop through the list of list hn and check if Ask HN or Show HN is included in the title. If included, create two distict lists and add each post type respectively in their list"
   ]
  },
  {
   "cell_type": "code",
   "execution_count": 13,
   "metadata": {},
   "outputs": [
    {
     "name": "stdout",
     "output_type": "stream",
     "text": [
      "There are 1744 Ask HN posts\n",
      "There are 1162 Show HN posts\n",
      "There are 17194 Other posts\n"
     ]
    }
   ],
   "source": [
    "ask_posts = []\n",
    "show_posts = []\n",
    "other_posts = []\n",
    "\n",
    "for row in hn:\n",
    "    if row[1].lower().startswith(\"ask hn\"):\n",
    "        ask_posts.append(row)\n",
    "        \n",
    "    elif row[1].lower().startswith(\"show hn\"):\n",
    "        show_posts.append(row)\n",
    "    else:\n",
    "        other_posts.append(row)\n",
    "        \n",
    "print(f\"There are {len(ask_posts)} Ask HN posts\")\n",
    "print(f\"There are {len(show_posts)} Show HN posts\")\n",
    "print(f\"There are {len(other_posts)} Other posts\")"
   ]
  },
  {
   "cell_type": "markdown",
   "metadata": {},
   "source": [
    "From the above result, the number of Ask HN posts are almost two times more than that of Show HN. The difference in number is not surprising to me, I too spend most time asking questions than showcasing my projetcs."
   ]
  },
  {
   "cell_type": "markdown",
   "metadata": {},
   "source": [
    "## Determining which comments type receive more points on average.\n",
    "\n",
    "\n",
    "**Number of Points** = calculated as the total number of upvotes minus the total number of downvotes\n",
    "\n",
    "we will start by calculating the total number of points then divide by the total number of comments for each post type."
   ]
  },
  {
   "cell_type": "code",
   "execution_count": 16,
   "metadata": {},
   "outputs": [
    {
     "name": "stdout",
     "output_type": "stream",
     "text": [
      "There are 1.07 points per ask post on average\n",
      "There are 2.67 points per show post on average\n"
     ]
    }
   ],
   "source": [
    "def total_points(data):\n",
    "    s = 0\n",
    "    for row in data:\n",
    "        s += int(row[3])\n",
    "    return s\n",
    "\n",
    "def total_comments(data):\n",
    "    s = 0\n",
    "    for row in data:\n",
    "        s += int(row[4])\n",
    "    return s\n",
    "\n",
    "total_ask_points = total_points(ask_posts)\n",
    "total_show_points = total_points(show_posts)\n",
    "total_ask_comments = total_comments(ask_posts)\n",
    "total_show_comments = total_comments(show_posts)\n",
    "\n",
    "average_point_per_ask_post = total_ask_points/total_ask_comments\n",
    "average_point_per_show_post = total_show_points/total_show_comments\n",
    "\n",
    "print(\"There are {0:.2f} points per ask post on average\".format(average_point_per_ask_post))\n",
    "\n",
    "print(\"There are {0:.2f} points per show post on average\".format(average_point_per_show_post))"
   ]
  },
  {
   "cell_type": "markdown",
   "metadata": {},
   "source": [
    "The number of points for Show posts are two times that of Ask Post. Which could be due to the fact that users appriacte more show post and gives them more upvotes."
   ]
  },
  {
   "cell_type": "markdown",
   "metadata": {},
   "source": [
    "# Calculating the average number of comments per post for Ask HN and Show HN"
   ]
  },
  {
   "cell_type": "code",
   "execution_count": 17,
   "metadata": {},
   "outputs": [
    {
     "name": "stdout",
     "output_type": "stream",
     "text": [
      "There approximately 14.038417431192661 comments per ask post\n",
      "There approximately 10.31669535283993 comments per ask post\n"
     ]
    }
   ],
   "source": [
    "average_ask_comments = total_ask_comments/len(ask_posts)\n",
    "\n",
    "average_show_comments = total_show_comments/len(show_posts)\n",
    "\n",
    "print(\"There approximately {} comments per ask post\".format(average_ask_comments ))\n",
    "print(\"There approximately {} comments per ask post\".format(average_show_comments ))"
   ]
  },
  {
   "cell_type": "markdown",
   "metadata": {},
   "source": [
    "On average each ask post receives 14 comments. Like wise, eact show post receive about 10comments. \n",
    "\n",
    "They rest of our analysis will be focused on Ask Post since they receive more comments and therefore draws more attention."
   ]
  },
  {
   "cell_type": "markdown",
   "metadata": {},
   "source": [
    "# Calculate the amount of ask post  and comments per hour\n",
    "\n",
    "from our previous analysis, ask post receive more comments than show posts on average. So we will focus our analysis on ask posts."
   ]
  },
  {
   "cell_type": "markdown",
   "metadata": {},
   "source": [
    "Next, we'll determine if we can maximize the amount of comments an ask post receives by creating it at a certain time. First, we'll find the amount of ask posts created during each hour of day, along with the number of comments those posts received. Then, we'll calculate the average amount of comments ask posts created at each hour of the day receive."
   ]
  },
  {
   "cell_type": "code",
   "execution_count": 18,
   "metadata": {},
   "outputs": [
    {
     "name": "stdout",
     "output_type": "stream",
     "text": [
      "{'09': 251, '13': 1253, '10': 793, '14': 1416, '16': 1814, '23': 543, '12': 687, '17': 1146, '15': 4477, '21': 1745, '20': 1722, '02': 1381, '18': 1439, '03': 421, '05': 464, '19': 1188, '01': 683, '22': 479, '08': 492, '04': 337, '00': 447, '06': 397, '07': 267, '11': 641}\n",
      "{'09': 45, '13': 85, '10': 59, '14': 107, '16': 108, '23': 68, '12': 73, '17': 100, '15': 116, '21': 109, '20': 80, '02': 58, '18': 109, '03': 54, '05': 46, '19': 110, '01': 60, '22': 71, '08': 48, '04': 47, '00': 55, '06': 44, '07': 34, '11': 58}\n"
     ]
    }
   ],
   "source": [
    "# Import datetime module\n",
    "import datetime as dt\n",
    "\n",
    "result_list = []\n",
    "\n",
    "for row in ask_posts:\n",
    "    result_list.append([row[6], int(row[4])])\n",
    "    \n",
    "comments_by_hour = {}\n",
    "counts_by_hour = {}\n",
    "\n",
    "for row in result_list:\n",
    "    # Getting the time for each post\n",
    "    time = row[0].split(' ')[1]\n",
    "    # converting time into a datetime object for easy manipulation and formatiing\n",
    "    dateObj = dt.datetime.strptime(time, \"%H:%M\")\n",
    "    hour = dateObj.strftime(\"%H\")\n",
    "    \n",
    "    # Counting the numbers of comments by hour\n",
    "    if hour not in comments_by_hour:\n",
    "        comments_by_hour[hour] = int(row[1])\n",
    "    else:\n",
    "        comments_by_hour[hour] += int(row[1])\n",
    "    \n",
    "    # Counting the number of posts by hour\n",
    "    if hour not in counts_by_hour:\n",
    "        counts_by_hour[hour] = 1\n",
    "    else:\n",
    "        counts_by_hour[hour] += 1\n",
    "    \n",
    "print(comments_by_hour)\n",
    "print(counts_by_hour)"
   ]
  },
  {
   "cell_type": "markdown",
   "metadata": {},
   "source": [
    "## Calculating the average number of comments per post using the two dictions above"
   ]
  },
  {
   "cell_type": "code",
   "execution_count": 19,
   "metadata": {},
   "outputs": [
    {
     "name": "stdout",
     "output_type": "stream",
     "text": [
      "[['09', 5.5777777777777775], ['13', 14.741176470588234], ['10', 13.440677966101696], ['14', 13.233644859813085], ['16', 16.796296296296298], ['23', 7.985294117647059], ['12', 9.41095890410959], ['17', 11.46], ['15', 38.5948275862069], ['21', 16.009174311926607], ['20', 21.525], ['02', 23.810344827586206], ['18', 13.20183486238532], ['03', 7.796296296296297], ['05', 10.08695652173913], ['19', 10.8], ['01', 11.383333333333333], ['22', 6.746478873239437], ['08', 10.25], ['04', 7.170212765957447], ['00', 8.127272727272727], ['06', 9.022727272727273], ['07', 7.852941176470588], ['11', 11.051724137931034]]\n"
     ]
    }
   ],
   "source": [
    "avg_by_hour = []\n",
    "for hour in counts_by_hour:\n",
    "    avg_by_hour.append([hour, comments_by_hour[hour]/counts_by_hour[hour]])\n",
    "\n",
    "print(avg_by_hour)"
   ]
  },
  {
   "cell_type": "markdown",
   "metadata": {},
   "source": [
    "Sorting the list of lists (avg_by_hour) in descending order and getting the five first hours of the day with the highest number of comments per post"
   ]
  },
  {
   "cell_type": "code",
   "execution_count": null,
   "metadata": {},
   "outputs": [],
   "source": [
    "avg_by_hour.sort(key=lambda val: val[1], reverse= True)\n",
    "five_hours_with_highest_comments = avg_by_hour[:5]\n",
    "\n",
    "for hrs, avg in five_hours_with_highest_comments:\n",
    "    hour = dt.datetime.strptime(hrs, \"%H\").strftime(\"%H:%M\")\n",
    "    print(\"{0}: {1:.2f} average comments per post\".format(hour, avg))"
   ]
  }
 ],
 "metadata": {
  "kernelspec": {
   "display_name": "Python 3",
   "language": "python",
   "name": "python3"
  },
  "language_info": {
   "codemirror_mode": {
    "name": "ipython",
    "version": 3
   },
   "file_extension": ".py",
   "mimetype": "text/x-python",
   "name": "python",
   "nbconvert_exporter": "python",
   "pygments_lexer": "ipython3",
   "version": "3.8.2"
  }
 },
 "nbformat": 4,
 "nbformat_minor": 2
}
